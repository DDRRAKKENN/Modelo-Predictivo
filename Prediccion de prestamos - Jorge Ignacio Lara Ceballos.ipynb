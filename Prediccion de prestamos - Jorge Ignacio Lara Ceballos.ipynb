{
 "cells": [
  {
   "cell_type": "markdown",
   "id": "8557bbb9",
   "metadata": {},
   "source": [
    "# Prediccion de consesion de prestamos a potenciales clientes"
   ]
  },
  {
   "cell_type": "markdown",
   "id": "f4d8c1f0",
   "metadata": {},
   "source": [
    "## Planteando el caso hipotetico de una empresa de financiamiento de viviendas.\n",
    "\n",
    "**_Housing Finance Company_** se dedica a todo tipo de préstamos para la vivienda. Tienen presencia en todas las zonas urbanas, semiurbanas y rurales.\n",
    "\n",
    "\n",
    "### Metodo de solicitud de prestamo\n",
    "El cliente primero solicita un préstamo hipotecario y después la empresa valida la elegibilidad del cliente para el préstamo. La empresa quiere automatizar el proceso de elegibilidad del préstamo basado en los detalles del cliente proporcionados al rellenar un formulario de solicitud en línea.\n",
    "Estos datos son:\n",
    "* sexo.\n",
    "* estado civil.\n",
    "* educación.\n",
    "* personas a cargo.\n",
    "* importe del préstamo.\n",
    "* historial de crédito.\n",
    "* Etc.\n",
    "\n",
    "Se han proporcionado un conjunto para identificar los segmentos de clientes que son elegibles para los importes de los préstamos, de modo que puedan dirigirse específicamente a estos clientes.\n",
    "\n",
    "\n",
    "### Metodo de resolucion del problema\n",
    "\n",
    "Después de encontrar las tendencias ocultas, los patrones, y construir un modelo robusto mediante el aprendizaje de todos los tendencias y patrones, puede ser útil para predecir el estado del préstamo de los candidatos.\n",
    "Se construira un modelo que ayude a comprobar y evaluar el prestamo segun el cliente, ya que la empresa necesita este tipo de herramienta.\n"
   ]
  },
  {
   "cell_type": "code",
   "execution_count": 1,
   "id": "805f5916",
   "metadata": {},
   "outputs": [],
   "source": [
    "import numpy as np\n",
    "import pandas as pd\n",
    "import matplotlib.pyplot as plt\n",
    "import seaborn as sns\n",
    "import sklearn\n",
    "import imblearn"
   ]
  },
  {
   "cell_type": "code",
   "execution_count": 2,
   "id": "00fc4ff5",
   "metadata": {},
   "outputs": [],
   "source": [
    "plt.style.use('bmh')"
   ]
  },
  {
   "cell_type": "code",
   "execution_count": 3,
   "id": "6a02d1cf",
   "metadata": {},
   "outputs": [],
   "source": [
    "# Importamos el dataset con el que quiero trabajar.\n",
    "# Cargando el dataset para ser manipulado.\n",
    "\n",
    "data = pd.read_csv(\"LoanData.csv\")"
   ]
  },
  {
   "cell_type": "code",
   "execution_count": 4,
   "id": "ad678942",
   "metadata": {},
   "outputs": [
    {
     "data": {
      "text/plain": [
       "(614, 13)"
      ]
     },
     "execution_count": 4,
     "metadata": {},
     "output_type": "execute_result"
    }
   ],
   "source": [
    "# Quiero saber el tamaño del dataset con el que voy a trabajar y comprobar que se cargo bien.\n",
    "\n",
    "data.shape"
   ]
  },
  {
   "cell_type": "code",
   "execution_count": 5,
   "id": "49fe7cb1",
   "metadata": {},
   "outputs": [
    {
     "data": {
      "text/plain": [
       "Index(['Loan_ID', 'Gender', 'Married', 'Dependents', 'Education',\n",
       "       'Self_Employed', 'ApplicantIncome', 'CoapplicantIncome', 'LoanAmount',\n",
       "       'Loan_Amount_Term', 'Credit_History', 'Property_Area', 'Loan_Status'],\n",
       "      dtype='object')"
      ]
     },
     "execution_count": 5,
     "metadata": {},
     "output_type": "execute_result"
    }
   ],
   "source": [
    "# Revisando las columnas de mi dataset para saber como esta compuesto.\n",
    "\n",
    "data.columns"
   ]
  },
  {
   "cell_type": "code",
   "execution_count": 6,
   "id": "a4971cec",
   "metadata": {},
   "outputs": [
    {
     "data": {
      "text/html": [
       "<div>\n",
       "<style scoped>\n",
       "    .dataframe tbody tr th:only-of-type {\n",
       "        vertical-align: middle;\n",
       "    }\n",
       "\n",
       "    .dataframe tbody tr th {\n",
       "        vertical-align: top;\n",
       "    }\n",
       "\n",
       "    .dataframe thead th {\n",
       "        text-align: right;\n",
       "    }\n",
       "</style>\n",
       "<table border=\"1\" class=\"dataframe\">\n",
       "  <thead>\n",
       "    <tr style=\"text-align: right;\">\n",
       "      <th></th>\n",
       "      <th>Loan_ID</th>\n",
       "      <th>Gender</th>\n",
       "      <th>Married</th>\n",
       "      <th>Dependents</th>\n",
       "      <th>Education</th>\n",
       "      <th>Self_Employed</th>\n",
       "      <th>ApplicantIncome</th>\n",
       "      <th>CoapplicantIncome</th>\n",
       "      <th>LoanAmount</th>\n",
       "      <th>Loan_Amount_Term</th>\n",
       "      <th>Credit_History</th>\n",
       "      <th>Property_Area</th>\n",
       "      <th>Loan_Status</th>\n",
       "    </tr>\n",
       "  </thead>\n",
       "  <tbody>\n",
       "    <tr>\n",
       "      <th>0</th>\n",
       "      <td>LP001002</td>\n",
       "      <td>Male</td>\n",
       "      <td>No</td>\n",
       "      <td>0</td>\n",
       "      <td>Graduate</td>\n",
       "      <td>No</td>\n",
       "      <td>5849</td>\n",
       "      <td>0.0</td>\n",
       "      <td>NaN</td>\n",
       "      <td>360.0</td>\n",
       "      <td>1.0</td>\n",
       "      <td>Urban</td>\n",
       "      <td>Y</td>\n",
       "    </tr>\n",
       "    <tr>\n",
       "      <th>1</th>\n",
       "      <td>LP001003</td>\n",
       "      <td>Male</td>\n",
       "      <td>Yes</td>\n",
       "      <td>1</td>\n",
       "      <td>Graduate</td>\n",
       "      <td>No</td>\n",
       "      <td>4583</td>\n",
       "      <td>1508.0</td>\n",
       "      <td>128.0</td>\n",
       "      <td>360.0</td>\n",
       "      <td>1.0</td>\n",
       "      <td>Rural</td>\n",
       "      <td>N</td>\n",
       "    </tr>\n",
       "    <tr>\n",
       "      <th>2</th>\n",
       "      <td>LP001005</td>\n",
       "      <td>Male</td>\n",
       "      <td>Yes</td>\n",
       "      <td>0</td>\n",
       "      <td>Graduate</td>\n",
       "      <td>Yes</td>\n",
       "      <td>3000</td>\n",
       "      <td>0.0</td>\n",
       "      <td>66.0</td>\n",
       "      <td>360.0</td>\n",
       "      <td>1.0</td>\n",
       "      <td>Urban</td>\n",
       "      <td>Y</td>\n",
       "    </tr>\n",
       "    <tr>\n",
       "      <th>3</th>\n",
       "      <td>LP001006</td>\n",
       "      <td>Male</td>\n",
       "      <td>Yes</td>\n",
       "      <td>0</td>\n",
       "      <td>Not Graduate</td>\n",
       "      <td>No</td>\n",
       "      <td>2583</td>\n",
       "      <td>2358.0</td>\n",
       "      <td>120.0</td>\n",
       "      <td>360.0</td>\n",
       "      <td>1.0</td>\n",
       "      <td>Urban</td>\n",
       "      <td>Y</td>\n",
       "    </tr>\n",
       "    <tr>\n",
       "      <th>4</th>\n",
       "      <td>LP001008</td>\n",
       "      <td>Male</td>\n",
       "      <td>No</td>\n",
       "      <td>0</td>\n",
       "      <td>Graduate</td>\n",
       "      <td>No</td>\n",
       "      <td>6000</td>\n",
       "      <td>0.0</td>\n",
       "      <td>141.0</td>\n",
       "      <td>360.0</td>\n",
       "      <td>1.0</td>\n",
       "      <td>Urban</td>\n",
       "      <td>Y</td>\n",
       "    </tr>\n",
       "  </tbody>\n",
       "</table>\n",
       "</div>"
      ],
      "text/plain": [
       "    Loan_ID Gender Married Dependents     Education Self_Employed  \\\n",
       "0  LP001002   Male      No          0      Graduate            No   \n",
       "1  LP001003   Male     Yes          1      Graduate            No   \n",
       "2  LP001005   Male     Yes          0      Graduate           Yes   \n",
       "3  LP001006   Male     Yes          0  Not Graduate            No   \n",
       "4  LP001008   Male      No          0      Graduate            No   \n",
       "\n",
       "   ApplicantIncome  CoapplicantIncome  LoanAmount  Loan_Amount_Term  \\\n",
       "0             5849                0.0         NaN             360.0   \n",
       "1             4583             1508.0       128.0             360.0   \n",
       "2             3000                0.0        66.0             360.0   \n",
       "3             2583             2358.0       120.0             360.0   \n",
       "4             6000                0.0       141.0             360.0   \n",
       "\n",
       "   Credit_History Property_Area Loan_Status  \n",
       "0             1.0         Urban           Y  \n",
       "1             1.0         Rural           N  \n",
       "2             1.0         Urban           Y  \n",
       "3             1.0         Urban           Y  \n",
       "4             1.0         Urban           Y  "
      ]
     },
     "execution_count": 6,
     "metadata": {},
     "output_type": "execute_result"
    }
   ],
   "source": [
    "# De lo anterior visto, determino que la columna objetivo sera \"Loan_Status\".\n",
    "# Muestra de los primeros valores solo para asegurar que cargo bien.\n",
    "\n",
    "data.head() "
   ]
  },
  {
   "cell_type": "markdown",
   "id": "97afd45f",
   "metadata": {},
   "source": [
    "## Entendimiento del conjunto de datos.\n",
    "\n",
    "Con el dataset cargado y ya habiendo determinado la columna objetivo, deberia determinar cuales son las columnas independientes que me pueden ayudar a determinar que personas pueden acceder al prestamos y cuales no.\n",
    "las columnas que podriamos analizar para saber si afectaran al otogarmiento podrian ser:\n",
    "* Gender: *Hace referencia al genero del cliente*.\n",
    "* Married:  *Hace referencia a si el cliente esta casado o no*.\n",
    "* Dependents: *Hace referencia a las personas que tiene a cargo el cliente*.\n",
    "* Education: *Hace referencia al nivel educativo del cliente*.\n",
    "* Applicantincome: *Hace referencia a los ingresos del aplicante*.\n",
    "* Coapplicantincome: *Hace referencia al garante del cliente a quien se le concderia el prestamo*.\n"
   ]
  },
  {
   "cell_type": "code",
   "execution_count": 7,
   "id": "d2dcd6d8",
   "metadata": {},
   "outputs": [
    {
     "data": {
      "text/html": [
       "<div>\n",
       "<style scoped>\n",
       "    .dataframe tbody tr th:only-of-type {\n",
       "        vertical-align: middle;\n",
       "    }\n",
       "\n",
       "    .dataframe tbody tr th {\n",
       "        vertical-align: top;\n",
       "    }\n",
       "\n",
       "    .dataframe thead th {\n",
       "        text-align: right;\n",
       "    }\n",
       "</style>\n",
       "<table border=\"1\" class=\"dataframe\">\n",
       "  <thead>\n",
       "    <tr style=\"text-align: right;\">\n",
       "      <th></th>\n",
       "      <th>ApplicantIncome</th>\n",
       "      <th>CoapplicantIncome</th>\n",
       "      <th>LoanAmount</th>\n",
       "      <th>Loan_Amount_Term</th>\n",
       "      <th>Credit_History</th>\n",
       "    </tr>\n",
       "  </thead>\n",
       "  <tbody>\n",
       "    <tr>\n",
       "      <th>count</th>\n",
       "      <td>614.000000</td>\n",
       "      <td>614.000000</td>\n",
       "      <td>592.000000</td>\n",
       "      <td>600.00000</td>\n",
       "      <td>564.000000</td>\n",
       "    </tr>\n",
       "    <tr>\n",
       "      <th>mean</th>\n",
       "      <td>5403.459283</td>\n",
       "      <td>1621.245798</td>\n",
       "      <td>146.412162</td>\n",
       "      <td>342.00000</td>\n",
       "      <td>0.842199</td>\n",
       "    </tr>\n",
       "    <tr>\n",
       "      <th>std</th>\n",
       "      <td>6109.041673</td>\n",
       "      <td>2926.248369</td>\n",
       "      <td>85.587325</td>\n",
       "      <td>65.12041</td>\n",
       "      <td>0.364878</td>\n",
       "    </tr>\n",
       "    <tr>\n",
       "      <th>min</th>\n",
       "      <td>150.000000</td>\n",
       "      <td>0.000000</td>\n",
       "      <td>9.000000</td>\n",
       "      <td>12.00000</td>\n",
       "      <td>0.000000</td>\n",
       "    </tr>\n",
       "    <tr>\n",
       "      <th>25%</th>\n",
       "      <td>2877.500000</td>\n",
       "      <td>0.000000</td>\n",
       "      <td>100.000000</td>\n",
       "      <td>360.00000</td>\n",
       "      <td>1.000000</td>\n",
       "    </tr>\n",
       "    <tr>\n",
       "      <th>50%</th>\n",
       "      <td>3812.500000</td>\n",
       "      <td>1188.500000</td>\n",
       "      <td>128.000000</td>\n",
       "      <td>360.00000</td>\n",
       "      <td>1.000000</td>\n",
       "    </tr>\n",
       "    <tr>\n",
       "      <th>75%</th>\n",
       "      <td>5795.000000</td>\n",
       "      <td>2297.250000</td>\n",
       "      <td>168.000000</td>\n",
       "      <td>360.00000</td>\n",
       "      <td>1.000000</td>\n",
       "    </tr>\n",
       "    <tr>\n",
       "      <th>max</th>\n",
       "      <td>81000.000000</td>\n",
       "      <td>41667.000000</td>\n",
       "      <td>700.000000</td>\n",
       "      <td>480.00000</td>\n",
       "      <td>1.000000</td>\n",
       "    </tr>\n",
       "  </tbody>\n",
       "</table>\n",
       "</div>"
      ],
      "text/plain": [
       "       ApplicantIncome  CoapplicantIncome  LoanAmount  Loan_Amount_Term  \\\n",
       "count       614.000000         614.000000  592.000000         600.00000   \n",
       "mean       5403.459283        1621.245798  146.412162         342.00000   \n",
       "std        6109.041673        2926.248369   85.587325          65.12041   \n",
       "min         150.000000           0.000000    9.000000          12.00000   \n",
       "25%        2877.500000           0.000000  100.000000         360.00000   \n",
       "50%        3812.500000        1188.500000  128.000000         360.00000   \n",
       "75%        5795.000000        2297.250000  168.000000         360.00000   \n",
       "max       81000.000000       41667.000000  700.000000         480.00000   \n",
       "\n",
       "       Credit_History  \n",
       "count      564.000000  \n",
       "mean         0.842199  \n",
       "std          0.364878  \n",
       "min          0.000000  \n",
       "25%          1.000000  \n",
       "50%          1.000000  \n",
       "75%          1.000000  \n",
       "max          1.000000  "
      ]
     },
     "execution_count": 7,
     "metadata": {},
     "output_type": "execute_result"
    }
   ],
   "source": [
    "# Realizando estadistica descriptiva para variables continuas (luego se hace con variables categoricas).\n",
    "data.describe()"
   ]
  },
  {
   "cell_type": "markdown",
   "id": "897546f4",
   "metadata": {},
   "source": [
    "Como vemos arriba, tenemos los datos descriptivos del dataset, como la cantidad de aplicantes, la media del importe del prestamo, la desviacion standard, y los maximos para cada elemento de las columnas.\n",
    "Tambien es importante prestar atencion a los valores percentiles, que nos podran dar cuenta del efecto de los outliers dentro de mi dataset.\n"
   ]
  },
  {
   "cell_type": "markdown",
   "id": "840a309f",
   "metadata": {},
   "source": [
    "Está bastante claro que en las columnas \"ApplicantIncome\", \"CoapplicantIncome\" y \"LoanAmount\" estamos teniendo valores **atípicos**. Si nos fijamos bien en el valor medio y el valor máximo de la columna \"ApplicantIncome\" tiene una gran diferencia en el valor. \n",
    "\n",
    "Del mismo modo, se puede ver una gran diferencia en los valores de \"CoapplicantIncome\" y la columna \"LoanAmount\".\n",
    "\n",
    "Los valores atípicos se consideran malos para los modelos de predicción, ya que estos valores atípicos pueden distorsionar o destruir el patron de aprendizaje de los datos, lo que podría conducir a un mal rendimiento de nuestro modelo."
   ]
  },
  {
   "cell_type": "code",
   "execution_count": 8,
   "id": "e5568fa1",
   "metadata": {},
   "outputs": [
    {
     "data": {
      "text/html": [
       "<div>\n",
       "<style scoped>\n",
       "    .dataframe tbody tr th:only-of-type {\n",
       "        vertical-align: middle;\n",
       "    }\n",
       "\n",
       "    .dataframe tbody tr th {\n",
       "        vertical-align: top;\n",
       "    }\n",
       "\n",
       "    .dataframe thead th {\n",
       "        text-align: right;\n",
       "    }\n",
       "</style>\n",
       "<table border=\"1\" class=\"dataframe\">\n",
       "  <thead>\n",
       "    <tr style=\"text-align: right;\">\n",
       "      <th></th>\n",
       "      <th>Loan_ID</th>\n",
       "      <th>Gender</th>\n",
       "      <th>Married</th>\n",
       "      <th>Dependents</th>\n",
       "      <th>Education</th>\n",
       "      <th>Self_Employed</th>\n",
       "      <th>Property_Area</th>\n",
       "      <th>Loan_Status</th>\n",
       "    </tr>\n",
       "  </thead>\n",
       "  <tbody>\n",
       "    <tr>\n",
       "      <th>count</th>\n",
       "      <td>614</td>\n",
       "      <td>601</td>\n",
       "      <td>611</td>\n",
       "      <td>599</td>\n",
       "      <td>614</td>\n",
       "      <td>582</td>\n",
       "      <td>614</td>\n",
       "      <td>614</td>\n",
       "    </tr>\n",
       "    <tr>\n",
       "      <th>unique</th>\n",
       "      <td>614</td>\n",
       "      <td>2</td>\n",
       "      <td>2</td>\n",
       "      <td>4</td>\n",
       "      <td>2</td>\n",
       "      <td>2</td>\n",
       "      <td>3</td>\n",
       "      <td>2</td>\n",
       "    </tr>\n",
       "    <tr>\n",
       "      <th>top</th>\n",
       "      <td>LP001002</td>\n",
       "      <td>Male</td>\n",
       "      <td>Yes</td>\n",
       "      <td>0</td>\n",
       "      <td>Graduate</td>\n",
       "      <td>No</td>\n",
       "      <td>Semiurban</td>\n",
       "      <td>Y</td>\n",
       "    </tr>\n",
       "    <tr>\n",
       "      <th>freq</th>\n",
       "      <td>1</td>\n",
       "      <td>489</td>\n",
       "      <td>398</td>\n",
       "      <td>345</td>\n",
       "      <td>480</td>\n",
       "      <td>500</td>\n",
       "      <td>233</td>\n",
       "      <td>422</td>\n",
       "    </tr>\n",
       "  </tbody>\n",
       "</table>\n",
       "</div>"
      ],
      "text/plain": [
       "         Loan_ID Gender Married Dependents Education Self_Employed  \\\n",
       "count        614    601     611        599       614           582   \n",
       "unique       614      2       2          4         2             2   \n",
       "top     LP001002   Male     Yes          0  Graduate            No   \n",
       "freq           1    489     398        345       480           500   \n",
       "\n",
       "       Property_Area Loan_Status  \n",
       "count            614         614  \n",
       "unique             3           2  \n",
       "top        Semiurban           Y  \n",
       "freq             233         422  "
      ]
     },
     "execution_count": 8,
     "metadata": {},
     "output_type": "execute_result"
    }
   ],
   "source": [
    "# Haciendo estadistica descriptiva en columnas con valores categoricas.\n",
    "# Esto me dara valores unicos y top de las variables categoricas ademas de la frecuencia con que ocurren.\n",
    "\n",
    "data.describe(include='object')"
   ]
  },
  {
   "cell_type": "markdown",
   "id": "72fce28d",
   "metadata": {},
   "source": [
    "De lo anterior podemos ver un desbalance de los creditos entregados, ya que el valor de frecuencia top (es decir Y = ACEPTADO) es ampliamente superior a los N = NO ACEPTADOS.\n",
    "Para comprobarlo vamos a contar los valores de la columna \"Loan_Status\"."
   ]
  },
  {
   "cell_type": "code",
   "execution_count": 9,
   "id": "54f7d1e6",
   "metadata": {},
   "outputs": [
    {
     "data": {
      "text/plain": [
       "Y    422\n",
       "N    192\n",
       "Name: Loan_Status, dtype: int64"
      ]
     },
     "execution_count": 9,
     "metadata": {},
     "output_type": "execute_result"
    }
   ],
   "source": [
    "# Confirmando los valores de la columna \"Loan_Status\".\n",
    "\n",
    "data['Loan_Status'].value_counts()"
   ]
  },
  {
   "cell_type": "markdown",
   "id": "e61ec60d",
   "metadata": {},
   "source": [
    "## Limpieza de datos\n",
    "Una vez ya entendido los datos que tenemos,vamos a pasar a buscar datos perdidos, faltantes y demas boludeces\n"
   ]
  },
  {
   "cell_type": "code",
   "execution_count": 10,
   "id": "55176d86",
   "metadata": {},
   "outputs": [
    {
     "data": {
      "text/plain": [
       "Loan_ID               0\n",
       "Gender               13\n",
       "Married               3\n",
       "Dependents           15\n",
       "Education             0\n",
       "Self_Employed        32\n",
       "ApplicantIncome       0\n",
       "CoapplicantIncome     0\n",
       "LoanAmount           22\n",
       "Loan_Amount_Term     14\n",
       "Credit_History       50\n",
       "Property_Area         0\n",
       "Loan_Status           0\n",
       "dtype: int64"
      ]
     },
     "execution_count": 10,
     "metadata": {},
     "output_type": "execute_result"
    }
   ],
   "source": [
    "# Comprobando faltante de datos en mi dataset, sumando los datos nulos por cada columna.\n",
    "data.isnull().sum()"
   ]
  },
  {
   "cell_type": "markdown",
   "id": "48b4bab3",
   "metadata": {},
   "source": [
    "Encontramos datos faltantes en las siguientes columnas:\n",
    "### _(con variables categoricas)_\n",
    "+ Gender\n",
    "+ Married\n",
    "+ Dependents\n",
    "+ Self_Employed\n",
    "\n",
    "### _(con variables numericas)_\n",
    "+ LoanAmount\n",
    "+ Loan_Amount_Term\n",
    "+ Credit_History\n",
    "\n",
    "Sabiendo de estos valores faltantes y el tipo de datos que estos contienen, podemos imputar o simplemente reemplazar esos valores por valores de media, mediana o moda.\n",
    "    "
   ]
  },
  {
   "cell_type": "markdown",
   "id": "8c4dbf6c",
   "metadata": {},
   "source": [
    "Como sabemos que las columnas \"Gender\", \"Married\",\"Dependents\" y \"Self_Employed\" son columnas con valores categoricas, podemos reemplazar los valores faltantes con la moda de su columna de la siguiente forma."
   ]
  },
  {
   "cell_type": "code",
   "execution_count": 11,
   "id": "dfc1b24c",
   "metadata": {},
   "outputs": [],
   "source": [
    "# Reemplazo de valores faltantes en columnas de valores categoricas.\n",
    "\n",
    "data['Gender'] = data['Gender'].fillna(data['Gender'].mode()[0])\n",
    "data['Married'] = data['Married'].fillna(data['Married'].mode()[0])\n",
    "data['Dependents'] = data['Dependents'].fillna(data['Dependents'].mode()[0])\n",
    "data['Self_Employed'] = data['Self_Employed'].fillna(data['Self_Employed'].mode()[0])"
   ]
  },
  {
   "cell_type": "markdown",
   "id": "df694314",
   "metadata": {},
   "source": [
    "Como sabemos que las columnas \"LoanAmount\", \"Loan_Amount_Term\" y \"Loan_Amount_Term\" son columnas con valores numericas, podemos reemplazar los valores faltantes con la media de su columna de la siguiente forma."
   ]
  },
  {
   "cell_type": "code",
   "execution_count": 12,
   "id": "0ae105a8",
   "metadata": {},
   "outputs": [],
   "source": [
    "# Reemplazo de valores faltantes en columnas de valores numericos.\n",
    "\n",
    "data['LoanAmount'] = data['LoanAmount'].fillna(data['LoanAmount'].median())\n",
    "data['Loan_Amount_Term'] = data['Loan_Amount_Term'].fillna(data['Loan_Amount_Term'].median())\n",
    "data['Credit_History'] = data['Credit_History'].fillna(data['Credit_History'].median())"
   ]
  },
  {
   "cell_type": "code",
   "execution_count": 13,
   "id": "8d752409",
   "metadata": {},
   "outputs": [
    {
     "data": {
      "text/plain": [
       "Loan_ID              0\n",
       "Gender               0\n",
       "Married              0\n",
       "Dependents           0\n",
       "Education            0\n",
       "Self_Employed        0\n",
       "ApplicantIncome      0\n",
       "CoapplicantIncome    0\n",
       "LoanAmount           0\n",
       "Loan_Amount_Term     0\n",
       "Credit_History       0\n",
       "Property_Area        0\n",
       "Loan_Status          0\n",
       "dtype: int64"
      ]
     },
     "execution_count": 13,
     "metadata": {},
     "output_type": "execute_result"
    }
   ],
   "source": [
    "# Chequeando que ahora no tengamos ningun otro valor faltante\n",
    "\n",
    "data.isnull().sum()"
   ]
  },
  {
   "cell_type": "markdown",
   "id": "ee2e7651",
   "metadata": {},
   "source": [
    "Podemos graficar los valores outliers para ver mas claro todo, sobre todo porque estaban en las columnas objetivo de estudio.\n"
   ]
  },
  {
   "cell_type": "code",
   "execution_count": 14,
   "id": "2d76c2d4",
   "metadata": {},
   "outputs": [
    {
     "name": "stderr",
     "output_type": "stream",
     "text": [
      "C:\\ProgramData\\Anaconda3\\lib\\site-packages\\seaborn\\_decorators.py:36: FutureWarning: Pass the following variable as a keyword arg: x. From version 0.12, the only valid positional argument will be `data`, and passing other arguments without an explicit keyword will result in an error or misinterpretation.\n",
      "  warnings.warn(\n",
      "C:\\ProgramData\\Anaconda3\\lib\\site-packages\\seaborn\\_decorators.py:36: FutureWarning: Pass the following variable as a keyword arg: x. From version 0.12, the only valid positional argument will be `data`, and passing other arguments without an explicit keyword will result in an error or misinterpretation.\n",
      "  warnings.warn(\n",
      "C:\\ProgramData\\Anaconda3\\lib\\site-packages\\seaborn\\_decorators.py:36: FutureWarning: Pass the following variable as a keyword arg: x. From version 0.12, the only valid positional argument will be `data`, and passing other arguments without an explicit keyword will result in an error or misinterpretation.\n",
      "  warnings.warn(\n"
     ]
    },
    {
     "data": {
      "image/png": "[encoded data removed]",
      "text/plain": [
       "<Figure size 1080x288 with 3 Axes>"
      ]
     },
     "metadata": {
      "needs_background": "light"
     },
     "output_type": "display_data"
    }
   ],
   "source": [
    "plt.rcParams['figure.figsize'] = (15, 4)\n",
    "\n",
    "plt.subplot(1, 3, 1)\n",
    "sns.boxplot(data['ApplicantIncome'])\n",
    "\n",
    "plt.subplot(1, 3, 2)\n",
    "sns.boxplot(data['CoapplicantIncome'])\n",
    "\n",
    "plt.subplot(1, 3, 3)\n",
    "sns.boxplot(data['LoanAmount'])\n",
    "\n",
    "plt.suptitle('Outliers presentes en el dataset')\n",
    "plt.show()\n"
   ]
  },
  {
   "cell_type": "markdown",
   "id": "f2dec925",
   "metadata": {},
   "source": [
    "Una vez que ya ubicamos los outliers podemos ir sacandolos teniendo en cuenta los valores maximos y en donde se encuentran. Para eso voy a ir filtrando por cada columna objetivo.\n",
    "Primero filtrando para la columna \"ApplicantIncome\" dejando con valores menores a 25000"
   ]
  },
  {
   "cell_type": "code",
   "execution_count": 15,
   "id": "9e10a881",
   "metadata": {},
   "outputs": [
    {
     "name": "stdout",
     "output_type": "stream",
     "text": [
      "Antes de remover outliers de columna 'ApplicantIncome': (614, 13)\n",
      "Despues de remover outliers de columna 'ApplicantIncome': (607, 13)\n",
      "Cantidad de registros eliminados en el proceso: 7\n"
     ]
    }
   ],
   "source": [
    "# Removiendo outliers de columna 'ApplicantIncome'\"\n",
    "\n",
    "antes = data.shape\n",
    "print(\"Antes de remover outliers de columna 'ApplicantIncome':\",antes)\n",
    "\n",
    "data = data[data['ApplicantIncome'] < 25000]\n",
    "\n",
    "despues =data.shape\n",
    "print(\"Despues de remover outliers de columna 'ApplicantIncome':\", despues)\n",
    "\n",
    "valoresEliminados = antes[0] - despues[0]\n",
    "print(\"Cantidad de registros eliminados en el proceso:\",valoresEliminados )"
   ]
  },
  {
   "cell_type": "markdown",
   "id": "740b0349",
   "metadata": {},
   "source": [
    "Lo mismo hacemos para la columna \"CoapplicantIncome\", esta vez filtrando valores menores a 10000"
   ]
  },
  {
   "cell_type": "code",
   "execution_count": 16,
   "id": "a2860b73",
   "metadata": {},
   "outputs": [
    {
     "name": "stdout",
     "output_type": "stream",
     "text": [
      "Antes de remover outliers de columna 'CoapplicantIncome': (607, 13)\n",
      "Despues de remover outliers de columna 'CoapplicantIncome': (601, 13)\n",
      "Cantidad de registros eliminados en el proceso: 6\n"
     ]
    }
   ],
   "source": [
    "# Removiendo outliers de columna 'CoapplicantIncome'\"\n",
    "\n",
    "antes = data.shape\n",
    "print(\"Antes de remover outliers de columna 'CoapplicantIncome':\", antes)\n",
    "\n",
    "data = data[data['CoapplicantIncome'] < 10000]\n",
    "\n",
    "despues = data.shape\n",
    "print(\"Despues de remover outliers de columna 'CoapplicantIncome':\", despues)\n",
    "\n",
    "valoresEliminados = antes[0] - despues[0]\n",
    "print(\"Cantidad de registros eliminados en el proceso:\",valoresEliminados )"
   ]
  },
  {
   "cell_type": "markdown",
   "id": "adb35617",
   "metadata": {},
   "source": [
    "Y por ultimo con la columna \"LoanAmount\" , filtrando en valores menores a 400"
   ]
  },
  {
   "cell_type": "code",
   "execution_count": 17,
   "id": "ac39ca46",
   "metadata": {},
   "outputs": [
    {
     "name": "stdout",
     "output_type": "stream",
     "text": [
      "Antes de remover outliers de columna 'LoanAmount': (601, 13)\n",
      "Despues de remover outliers de columna 'LoanAmount': (590, 13)\n",
      "Cantidad de registros eliminados en el proceso: 11\n"
     ]
    }
   ],
   "source": [
    "# Removiendo outliers de columna 'LoanAmount'\"\n",
    "\n",
    "antes = data.shape\n",
    "print(\"Antes de remover outliers de columna 'LoanAmount':\", antes)\n",
    "\n",
    "data = data[data['LoanAmount'] < 400]\n",
    "\n",
    "despues = data.shape\n",
    "print(\"Despues de remover outliers de columna 'LoanAmount':\", despues)\n",
    "\n",
    "valoresEliminados = antes[0] - despues[0]\n",
    "print(\"Cantidad de registros eliminados en el proceso:\",valoresEliminados )"
   ]
  },
  {
   "cell_type": "markdown",
   "id": "e1ee03a7",
   "metadata": {},
   "source": [
    "## Analisis univariado\n",
    "Para esta parte voy a graficar las columnas que contienen valores numericos"
   ]
  },
  {
   "cell_type": "code",
   "execution_count": 18,
   "id": "8dff47f2",
   "metadata": {},
   "outputs": [
    {
     "name": "stderr",
     "output_type": "stream",
     "text": [
      "C:\\ProgramData\\Anaconda3\\lib\\site-packages\\seaborn\\distributions.py:2619: FutureWarning: `distplot` is a deprecated function and will be removed in a future version. Please adapt your code to use either `displot` (a figure-level function with similar flexibility) or `histplot` (an axes-level function for histograms).\n",
      "  warnings.warn(msg, FutureWarning)\n",
      "C:\\ProgramData\\Anaconda3\\lib\\site-packages\\seaborn\\distributions.py:2619: FutureWarning: `distplot` is a deprecated function and will be removed in a future version. Please adapt your code to use either `displot` (a figure-level function with similar flexibility) or `histplot` (an axes-level function for histograms).\n",
      "  warnings.warn(msg, FutureWarning)\n",
      "C:\\ProgramData\\Anaconda3\\lib\\site-packages\\seaborn\\distributions.py:2619: FutureWarning: `distplot` is a deprecated function and will be removed in a future version. Please adapt your code to use either `displot` (a figure-level function with similar flexibility) or `histplot` (an axes-level function for histograms).\n",
      "  warnings.warn(msg, FutureWarning)\n"
     ]
    },
    {
     "data": {
      "image/png": "[encoded data removed]",
      "text/plain": [
       "<Figure size 1080x288 with 3 Axes>"
      ]
     },
     "metadata": {
      "needs_background": "light"
     },
     "output_type": "display_data"
    }
   ],
   "source": [
    "# Graficando columnas con datos numericos\n",
    "\n",
    "plt.style.use('bmh')\n",
    "\n",
    "plt.rcParams['figure.figsize'] = (15, 4)\n",
    "plt.subplot(1,3, 1)\n",
    "sns.distplot(data['ApplicantIncome'], color = 'blue')\n",
    "\n",
    "plt.subplot(1,3, 2)\n",
    "sns.distplot(data['CoapplicantIncome'], color = 'blue')\n",
    "\n",
    "plt.subplot(1,3, 3)\n",
    "sns.distplot(data['LoanAmount'], color = 'red')\n",
    "\n",
    "plt.suptitle('Analisis univariado de columnas numericas')\n",
    "plt.show()"
   ]
  },
  {
   "cell_type": "markdown",
   "id": "b8974050",
   "metadata": {},
   "source": [
    "Podemos ver que hay asimetria en los datos asi que vamos a aplicar algunmetodos de transformacion"
   ]
  },
  {
   "cell_type": "code",
   "execution_count": 19,
   "id": "4cfa0dfe",
   "metadata": {},
   "outputs": [
    {
     "data": {
      "image/png": "[encoded data removed]",
      "text/plain": [
       "<Figure size 1296x288 with 2 Axes>"
      ]
     },
     "metadata": {
      "needs_background": "light"
     },
     "output_type": "display_data"
    }
   ],
   "source": [
    "# Aplicando la libreria warnings\n",
    "\n",
    "import warnings\n",
    "plt.style.use('bmh')\n",
    "warnings.filterwarnings('ignore')\n",
    "plt.rcParams['figure.figsize'] = (18, 4)\n",
    "\n",
    "# Aplicando transformacion para eliminar la asimetria\n",
    "data['ApplicantIncome'] = np.log(data['ApplicantIncome'])\n",
    "data['CoapplicantIncome'] = np.log1p(data['CoapplicantIncome'])\n",
    "\n",
    "# Graficando para comprobar si la asimetria fue anulada\n",
    "plt.subplot(1, 2, 1)\n",
    "sns.distplot(data['ApplicantIncome'], color = 'black')\n",
    "\n",
    "plt.subplot(1, 2, 2)\n",
    "sns.distplot(data['CoapplicantIncome'], color = 'black')\n",
    "\n",
    "plt.suptitle('Despues de las transformaciones')\n",
    "plt.show()"
   ]
  },
  {
   "cell_type": "markdown",
   "id": "6e943f3a",
   "metadata": {},
   "source": [
    "Ya teniendo los datos numericos de la manera que necesito, voy a realizar el analisis univariado para las columnas que tiene valores categoricos."
   ]
  },
  {
   "cell_type": "code",
   "execution_count": 20,
   "id": "62a2cbfa",
   "metadata": {},
   "outputs": [
    {
     "data": {
      "image/png": "[encoded data removed]",
      "text/plain": [
       "<Figure size 1080x576 with 8 Axes>"
      ]
     },
     "metadata": {
      "needs_background": "light"
     },
     "output_type": "display_data"
    }
   ],
   "source": [
    "plt.rcParams['figure.figsize'] = (15,8)\n",
    "\n",
    "plt.subplot(2, 4, 1)\n",
    "sns.countplot(data['Gender'], palette = 'flare')\n",
    "\n",
    "plt.subplot(2, 4, 2)\n",
    "sns.countplot(data['Married'], palette = 'flare')\n",
    "\n",
    "plt.subplot(2, 4, 3)\n",
    "sns.countplot(data['Dependents'], palette = 'flare')\n",
    "\n",
    "plt.subplot(2, 4, 4)\n",
    "sns.countplot(data['Self_Employed'], palette = 'flare')\n",
    "\n",
    "plt.subplot(2, 4, 5)\n",
    "sns.countplot(data['Credit_History'], palette = 'flare')\n",
    "\n",
    "plt.subplot(2, 4, 6)\n",
    "sns.countplot(data['Property_Area'], palette = 'flare')\n",
    "\n",
    "plt.subplot(2, 4, 7)\n",
    "sns.countplot(data['Education'], palette = 'flare')\n",
    "\n",
    "plt.subplot(2, 4, 8)\n",
    "sns.countplot(data['Loan_Status'], palette = 'flare')\n",
    "\n",
    "plt.suptitle('Analisis univariado de columnas categoricas')\n",
    "plt.show()"
   ]
  },
  {
   "cell_type": "markdown",
   "id": "4ffe9d68",
   "metadata": {},
   "source": [
    "## Analisis bivariado\n",
    "Aplicando el analisis bivariado podemos realizar analisis de tipo categorico-numerico, categorico-categorico o numerico-numerico segun lo que necesitmos ver, en este caso vamos a analizar contra nuestra columna objetivo que es \"Loan_Status\".\n",
    "\n",
    "Empiezo comparando a \"Loan_Status\" con  la columna \"ApplicantIncome\" (ambas son numericas)."
   ]
  },
  {
   "cell_type": "code",
   "execution_count": 21,
   "id": "6a332f79",
   "metadata": {},
   "outputs": [
    {
     "data": {
      "image/png": "[encoded data removed]",
      "text/plain": [
       "<Figure size 1080x288 with 2 Axes>"
      ]
     },
     "metadata": {
      "needs_background": "light"
     },
     "output_type": "display_data"
    }
   ],
   "source": [
    "# Analizando el impacto de comparacion entre las columnas de \"Loan_Status\" y \"ApplicantIncome\"\n",
    "\n",
    "plt.rcParams['figure.figsize'] = (15, 4)\n",
    "\n",
    "plt.subplot(1, 2, 1)\n",
    "sns.boxplot(data['Loan_Status'], data['ApplicantIncome'], palette = 'magma')\n",
    "\n",
    "plt.subplot(1, 2, 2)\n",
    "sns.boxplot(data['Loan_Status'], data['CoapplicantIncome'], palette = 'magma')\n",
    "\n",
    "plt.suptitle('Impacto del ingreso en el estado de prestamo\\n', fontsize = 20)\n",
    "plt.show()"
   ]
  },
  {
   "cell_type": "markdown",
   "id": "84661bb0",
   "metadata": {},
   "source": [
    "Analizando la comparacion de \"Loan_Status\" con \"LoanAmount\"."
   ]
  },
  {
   "cell_type": "code",
   "execution_count": 22,
   "id": "e67afbe4",
   "metadata": {},
   "outputs": [
    {
     "data": {
      "image/png": "[encoded data removed]",
      "text/plain": [
       "<Figure size 1080x288 with 2 Axes>"
      ]
     },
     "metadata": {
      "needs_background": "light"
     },
     "output_type": "display_data"
    }
   ],
   "source": [
    "# Analizando el impacto de comparacion entre las columnas de \"Loan_Status\" y \"LoanAmount\"\n",
    "\n",
    "plt.rcParams['figure.figsize'] = (15, 4)\n",
    "\n",
    "plt.subplot(1, 2, 1)\n",
    "sns.boxenplot(data['Loan_Status'], data['LoanAmount'], palette = 'Wistia')\n",
    "\n",
    "plt.subplot(1, 2, 2)\n",
    "sns.boxenplot(data['Loan_Status'], data['Loan_Amount_Term'], palette = 'Wistia')\n",
    "\n",
    "plt.suptitle('Impact of Income on Loan Status\\n', fontsize = 20)\n",
    "plt.show()"
   ]
  },
  {
   "cell_type": "markdown",
   "id": "e488ade8",
   "metadata": {},
   "source": [
    "Una vez analizadas las columnas numericas, debemos analizar las columnas categoricas, para eso usaremos \"crosstab\" para comprara dos variables (una categorica y la otra numerica)\n"
   ]
  },
  {
   "cell_type": "code",
   "execution_count": 23,
   "id": "648fa404",
   "metadata": {},
   "outputs": [
    {
     "name": "stdout",
     "output_type": "stream",
     "text": [
      "Impacto del matrimonio en los préstamos\n",
      "Married       No  Yes\n",
      "Loan_Status          \n",
      "N             76  106\n",
      "Y            130  278\n",
      "\n",
      "\n",
      "Impacto de clientes con personas a cargo en los préstamos \n",
      "Dependents     0   1   2  3+\n",
      "Loan_Status                 \n",
      "N            110  33  24  15\n",
      "Y            240  63  74  31\n",
      "\n",
      "\n",
      "Impacto de la educacion en los préstamos\n",
      "Education    Graduate  Not Graduate\n",
      "Loan_Status                        \n",
      "N                 130            52\n",
      "Y                 326            82\n",
      "\n",
      "\n",
      "Impacto del empleo en los préstamos\n",
      "Self_Employed   No  Yes\n",
      "Loan_Status            \n",
      "N              157   25\n",
      "Y              357   51\n",
      "\n",
      "\n",
      "Impacto de la propiedad  en los préstamos\n",
      "Property_Area  Rural  Semiurban  Urban\n",
      "Loan_Status                           \n",
      "N                 66         51     65\n",
      "Y                108        171    129\n"
     ]
    }
   ],
   "source": [
    "# Comparando todas las categorias con la columna \"Loan_Status\" para entender el impacto de c/u.\n",
    "print(\"Impacto del matrimonio en los préstamos\")\n",
    "print(pd.crosstab(data['Loan_Status'], data['Married']))\n",
    "print('\\n')\n",
    "\n",
    "print(\"Impacto de clientes con personas a cargo en los préstamos \")\n",
    "print(pd.crosstab(data['Loan_Status'], data['Dependents']))\n",
    "print('\\n')\n",
    "\n",
    "print(\"Impacto de la educacion en los préstamos\")\n",
    "print(pd.crosstab(data['Loan_Status'], data['Education']))\n",
    "print('\\n')\n",
    "\n",
    "print(\"Impacto del empleo en los préstamos\")\n",
    "print(pd.crosstab(data['Loan_Status'], data['Self_Employed']))\n",
    "print('\\n')\n",
    "\n",
    "print(\"Impacto de la propiedad  en los préstamos\")\n",
    "print(pd.crosstab(data['Loan_Status'], data['Property_Area']))"
   ]
  },
  {
   "cell_type": "markdown",
   "id": "eda99b32",
   "metadata": {},
   "source": [
    "### Comentarios sobre el analisis bivariado de categorica - numerica\n",
    "\n",
    "Del analisis anterior se desprenden algunos datos:\n",
    "\n",
    "* Las personas casadas reciben en proporcion mayor la aprobacion de un credito o prestamo.\n",
    "* La cantidad de personas a cargo del cliente influye de manera negativa para la obtencion de un prestamo.\n",
    "* Las personas graduadas o de mayor educacion tienen mas chance de ser aprobados para un prestamo.\n",
    "* Las personas  autoempleadas tienen en proporcion mayor chance de exito de recibir un prestamo aprobado.\n",
    "* La proporcion de zonas semi-urbanas tienen mas prestamos aprobados."
   ]
  },
  {
   "cell_type": "markdown",
   "id": "460135be",
   "metadata": {},
   "source": [
    "## Preparacion de los datos para el modelo\n",
    "Preparando los datos para el modelo voy a tener que convertir todos los valores del tipo \"string\" a valores numericos que pueda usar para el modelo de machine learning, asi que primero analizo el dataset teniendo en cuento aquellas columnas con valores del typo \"object\"."
   ]
  },
  {
   "cell_type": "code",
   "execution_count": 24,
   "id": "4c629768",
   "metadata": {},
   "outputs": [
    {
     "data": {
      "text/html": [
       "<div>\n",
       "<style scoped>\n",
       "    .dataframe tbody tr th:only-of-type {\n",
       "        vertical-align: middle;\n",
       "    }\n",
       "\n",
       "    .dataframe tbody tr th {\n",
       "        vertical-align: top;\n",
       "    }\n",
       "\n",
       "    .dataframe thead th {\n",
       "        text-align: right;\n",
       "    }\n",
       "</style>\n",
       "<table border=\"1\" class=\"dataframe\">\n",
       "  <thead>\n",
       "    <tr style=\"text-align: right;\">\n",
       "      <th></th>\n",
       "      <th>Loan_ID</th>\n",
       "      <th>Gender</th>\n",
       "      <th>Married</th>\n",
       "      <th>Dependents</th>\n",
       "      <th>Education</th>\n",
       "      <th>Self_Employed</th>\n",
       "      <th>Property_Area</th>\n",
       "      <th>Loan_Status</th>\n",
       "    </tr>\n",
       "  </thead>\n",
       "  <tbody>\n",
       "    <tr>\n",
       "      <th>0</th>\n",
       "      <td>LP001002</td>\n",
       "      <td>Male</td>\n",
       "      <td>No</td>\n",
       "      <td>0</td>\n",
       "      <td>Graduate</td>\n",
       "      <td>No</td>\n",
       "      <td>Urban</td>\n",
       "      <td>Y</td>\n",
       "    </tr>\n",
       "    <tr>\n",
       "      <th>1</th>\n",
       "      <td>LP001003</td>\n",
       "      <td>Male</td>\n",
       "      <td>Yes</td>\n",
       "      <td>1</td>\n",
       "      <td>Graduate</td>\n",
       "      <td>No</td>\n",
       "      <td>Rural</td>\n",
       "      <td>N</td>\n",
       "    </tr>\n",
       "    <tr>\n",
       "      <th>2</th>\n",
       "      <td>LP001005</td>\n",
       "      <td>Male</td>\n",
       "      <td>Yes</td>\n",
       "      <td>0</td>\n",
       "      <td>Graduate</td>\n",
       "      <td>Yes</td>\n",
       "      <td>Urban</td>\n",
       "      <td>Y</td>\n",
       "    </tr>\n",
       "    <tr>\n",
       "      <th>3</th>\n",
       "      <td>LP001006</td>\n",
       "      <td>Male</td>\n",
       "      <td>Yes</td>\n",
       "      <td>0</td>\n",
       "      <td>Not Graduate</td>\n",
       "      <td>No</td>\n",
       "      <td>Urban</td>\n",
       "      <td>Y</td>\n",
       "    </tr>\n",
       "    <tr>\n",
       "      <th>4</th>\n",
       "      <td>LP001008</td>\n",
       "      <td>Male</td>\n",
       "      <td>No</td>\n",
       "      <td>0</td>\n",
       "      <td>Graduate</td>\n",
       "      <td>No</td>\n",
       "      <td>Urban</td>\n",
       "      <td>Y</td>\n",
       "    </tr>\n",
       "  </tbody>\n",
       "</table>\n",
       "</div>"
      ],
      "text/plain": [
       "    Loan_ID Gender Married Dependents     Education Self_Employed  \\\n",
       "0  LP001002   Male      No          0      Graduate            No   \n",
       "1  LP001003   Male     Yes          1      Graduate            No   \n",
       "2  LP001005   Male     Yes          0      Graduate           Yes   \n",
       "3  LP001006   Male     Yes          0  Not Graduate            No   \n",
       "4  LP001008   Male      No          0      Graduate            No   \n",
       "\n",
       "  Property_Area Loan_Status  \n",
       "0         Urban           Y  \n",
       "1         Rural           N  \n",
       "2         Urban           Y  \n",
       "3         Urban           Y  \n",
       "4         Urban           Y  "
      ]
     },
     "execution_count": 24,
     "metadata": {},
     "output_type": "execute_result"
    }
   ],
   "source": [
    "# Revisando las columnas que tienen valores tipo \"object\"\n",
    "data.select_dtypes('object').head()"
   ]
  },
  {
   "cell_type": "markdown",
   "id": "a91378c0",
   "metadata": {},
   "source": [
    "Eliminando la columna \"Loan_ID\" ya que no aportara nada para el modelo"
   ]
  },
  {
   "cell_type": "code",
   "execution_count": 25,
   "id": "e2422560",
   "metadata": {},
   "outputs": [
    {
     "name": "stdout",
     "output_type": "stream",
     "text": [
      "Before Deleting Columns : (590, 13)\n",
      "After Deleting Columns : (590, 12)\n",
      "Cantidad de columnas eliminadas en el proceso: 1\n"
     ]
    }
   ],
   "source": [
    "# Imprinedo el \"shape\" del dataset antes de eliminar la columna \"Loan_ID\"\n",
    "\n",
    "antes = data.shape\n",
    "print(\"Before Deleting Columns :\",antes)\n",
    "\n",
    "data = data.drop(['Loan_ID'], axis = 1)\n",
    "\n",
    "#  Comprobando el \"shape\" del dataframe antes y despues\n",
    "despues = data.shape\n",
    "print(\"After Deleting Columns :\", despues)\n",
    "\n",
    "valoresEliminados = antes[1] - despues[1]\n",
    "print(\"Cantidad de columnas eliminadas en el proceso:\",valoresEliminados )"
   ]
  },
  {
   "cell_type": "markdown",
   "id": "5851ceaa",
   "metadata": {},
   "source": [
    "## Codificacion de los valores\n",
    "Antes de codificar los valores usando el principio de _\"One Hot Encoding\"_ tengamos en cuenta lo siguiente (esto sera en base al anterior analisis de las variables categoricas y los graficos).\n",
    "\n",
    "- La columna de \"Gender\" se separa en 1 y 0 para \"Male\" y \"Female\" respectivamente.\n",
    "- La columna \"Married\" se separa en 1 y 0 para \"Yes\" y \"No\" respectivamente.\n",
    "- La columna \"Education\" se separa en 1 y 0 para \"Graduate\" y \"Not Graduate\" respectivamente.\n",
    "- La columna \"Self_Employed\" se separa en 1 y 0 para \"Yes\" y \"No\" respectivamente.\n",
    "- La columna \"Loan_Status\" se separa en 1 y 0 para \"Y\" y \"N\" respectivamente.\n",
    "\n",
    "### Criterio para datos de mas de un valor\n",
    "\n",
    "- La columna \"Property_Area\" se separa en 1 para \"Urban\" y \"Semiurban\", mientras que'Rural' tendra el valor de 0 (esto es por la similitud de valores de \"Urban\" y \"Semiurban\").\n",
    "\n",
    "- La columna \"Dependents\" se separa en 0 para \"0\" y en 1 para los valores \"1\", \"2\" y \"3+\" aplicando que los valores de \"1\", \"2\" y \"3+\" pertenecen a un grupo diferente de \"0\".\n"
   ]
  },
  {
   "cell_type": "code",
   "execution_count": 26,
   "id": "152d1f94",
   "metadata": {},
   "outputs": [
    {
     "data": {
      "text/plain": [
       "Index([], dtype='object')"
      ]
     },
     "execution_count": 26,
     "metadata": {},
     "output_type": "execute_result"
    }
   ],
   "source": [
    "# Codificando las columnas\n",
    "\n",
    "data['Gender'] = data['Gender'].replace(('Male','Female'),(1, 0))\n",
    "data['Married'] = data['Married'].replace(('Yes','No'),(1, 0))\n",
    "data['Education'] = data['Education'].replace(('Graduate','Not Graduate'), (1, 0))\n",
    "data['Self_Employed'] = data['Self_Employed'].replace(('Yes','No'), (1, 0))\n",
    "data['Loan_Status'] = data['Loan_Status'].replace(('Y','N'), (1, 0))\n",
    "\n",
    "\n",
    "data['Property_Area'] = data['Property_Area'].replace(('Urban','Semiurban', 'Rural'),(1, 1, 0))\n",
    "\n",
    "data['Dependents'] = data['Dependents'].replace(('0', '1', '2', '3+'), (0, 1, 1, 1))\n",
    "\n",
    "# comprobacion de que no quedaron columnas por analizar\n",
    "data.select_dtypes('object').columns"
   ]
  },
  {
   "cell_type": "markdown",
   "id": "9c8abec0",
   "metadata": {},
   "source": [
    "Ahora separamos la columna target del dataset."
   ]
  },
  {
   "cell_type": "code",
   "execution_count": 27,
   "id": "0dc65e7e",
   "metadata": {},
   "outputs": [
    {
     "name": "stdout",
     "output_type": "stream",
     "text": [
      "Forma de x : (590, 11)\n",
      "Forma de y : (590,)\n"
     ]
    }
   ],
   "source": [
    "# separamos la columna target del dataset\n",
    "\n",
    "y = data['Loan_Status']\n",
    "x = data.drop(['Loan_Status'], axis = 1)\n",
    "\n",
    "print(\"Forma de x :\", x.shape)\n",
    "print(\"Forma de y :\", y.shape)"
   ]
  },
  {
   "cell_type": "markdown",
   "id": "63d0d128",
   "metadata": {},
   "source": [
    "## Aplicacion de remuestreo\n",
    "método que consiste en extraer muestras repetidas de las muestras originales. Como se vio anteriormente nuestra columna objetivo estaba desbalanceada y podemos corregir eso con metodo estadistico."
   ]
  },
  {
   "cell_type": "code",
   "execution_count": 28,
   "id": "b1c3536a",
   "metadata": {},
   "outputs": [
    {
     "name": "stdout",
     "output_type": "stream",
     "text": [
      "(816, 11)\n",
      "(816,)\n"
     ]
    }
   ],
   "source": [
    "# Es muy importante remuestrear los datos, ya que la clase objetivo está muy desequilibrada.\n",
    "\n",
    "from imblearn.over_sampling import SMOTE\n",
    "x_resample, y_resample  = SMOTE().fit_resample(x, y.values.ravel())\n",
    "\n",
    "# Mostrando el \"shape\" de x y de y despues del remuestreo\n",
    "print(x_resample.shape)\n",
    "print(y_resample.shape)"
   ]
  },
  {
   "cell_type": "code",
   "execution_count": 29,
   "id": "a4233bba",
   "metadata": {},
   "outputs": [
    {
     "name": "stdout",
     "output_type": "stream",
     "text": [
      "Antes de remuestreo:\n",
      "1    408\n",
      "0    182\n",
      "Name: Loan_Status, dtype: int64\n",
      "*-*-*-*-*-*-*-*-*-*-*\n",
      "Despues de remuestreo:\n",
      "1    408\n",
      "0    408\n",
      "Name: 0, dtype: int64\n"
     ]
    }
   ],
   "source": [
    "# Comprobemos también los conteos de valores de nuestra variable objetivo\n",
    "\n",
    "print(\"Antes de remuestreo:\")\n",
    "print(y.value_counts())\n",
    "\n",
    "print(\"*-*-*-*-*-*-*-*-*-*-*\")\n",
    "\n",
    "print(\"Despues de remuestreo:\")\n",
    "y_resample = pd.DataFrame(y_resample)\n",
    "print(y_resample[0].value_counts())"
   ]
  },
  {
   "cell_type": "markdown",
   "id": "8a8aee38",
   "metadata": {},
   "source": [
    "Esto balancea los datos, ahora existe la misma cantidad de personas aceptadas para el prestamo que cantidad de personas rechazadas."
   ]
  },
  {
   "cell_type": "code",
   "execution_count": 30,
   "id": "a79319df",
   "metadata": {},
   "outputs": [
    {
     "name": "stdout",
     "output_type": "stream",
     "text": [
      "'Shape' de x Train : (652, 11)\n",
      "'Shape' de y Train : (652, 1)\n",
      "'Shape' de x Test : (164, 11)\n",
      "'Shape' de y Test : (164, 1)\n"
     ]
    }
   ],
   "source": [
    "# Separando los datos para entenamiento y testeo\n",
    "\n",
    "from sklearn.model_selection import train_test_split\n",
    "\n",
    "x_train, x_test, y_train, y_test = train_test_split(x_resample, y_resample, test_size = 0.2, random_state = 0)\n",
    "\n",
    "# Mostrando los \"shape\" de los datos de entrenamiento y testeo\n",
    "print(\"'Shape' de x Train :\", x_train.shape)\n",
    "print(\"'Shape' de y Train :\", y_train.shape)\n",
    "print(\"'Shape' de x Test :\", x_test.shape)\n",
    "print(\"'Shape' de y Test :\", y_test.shape)"
   ]
  },
  {
   "cell_type": "markdown",
   "id": "1fe07cc5",
   "metadata": {},
   "source": [
    "## Modelo de machine learning (logisitico y gradient boosting)"
   ]
  },
  {
   "cell_type": "markdown",
   "id": "703319fc",
   "metadata": {},
   "source": [
    "Definiremos que modelo se ajusta mejor a mi problema, para eso utilizo tanto un modelo de regresion logisitca como el modelo \"gradient boosting\".\n",
    "\n",
    "### Con modelo de regresion logisitca:\n",
    "Definimos el modelo y ademas el conjunto de datos de entrenamiento y testeo para el mismo. Comprobamos la precision tanto del testeo como del entrenamiento."
   ]
  },
  {
   "cell_type": "code",
   "execution_count": 31,
   "id": "fd85a742",
   "metadata": {},
   "outputs": [
    {
     "name": "stdout",
     "output_type": "stream",
     "text": [
      "Precisión de entrenamiento : 0.7868098159509203\n",
      "Precisión de la prueba : 0.8292682926829268\n"
     ]
    }
   ],
   "source": [
    "# Aplicando un modelo de regresion logitica\n",
    "\n",
    "from sklearn.linear_model import LogisticRegression\n",
    "\n",
    "modelo = LogisticRegression(random_state = 0)\n",
    "modelo.fit(x_train, y_train)\n",
    "\n",
    "y_pred = modelo.predict(x_test)\n",
    "\n",
    "print(\"Precisión de entrenamiento :\", modelo.score(x_train, y_train))\n",
    "print(\"Precisión de la prueba :\", modelo.score(x_test, y_test))"
   ]
  },
  {
   "cell_type": "markdown",
   "id": "ec9d4896",
   "metadata": {},
   "source": [
    "La precision del entrenamiento esta al rededor del 78 % y del testeo en 82 %, hago la matriz de confusion para ver mas de cerca los datos"
   ]
  },
  {
   "cell_type": "code",
   "execution_count": 32,
   "id": "5a5d5902",
   "metadata": {},
   "outputs": [
    {
     "data": {
      "image/png": "[encoded data removed]",
      "text/plain": [
       "<Figure size 216x216 with 2 Axes>"
      ]
     },
     "metadata": {
      "needs_background": "light"
     },
     "output_type": "display_data"
    },
    {
     "name": "stdout",
     "output_type": "stream",
     "text": [
      "              precision    recall  f1-score   support\n",
      "\n",
      "           0       0.90      0.74      0.81        81\n",
      "           1       0.78      0.92      0.84        83\n",
      "\n",
      "    accuracy                           0.83       164\n",
      "   macro avg       0.84      0.83      0.83       164\n",
      "weighted avg       0.84      0.83      0.83       164\n",
      "\n"
     ]
    }
   ],
   "source": [
    "# Analizandola perforamnce del modelo con matriz de confusion\n",
    "\n",
    "from sklearn.metrics import confusion_matrix, classification_report\n",
    "\n",
    "matriz = confusion_matrix(y_test, y_pred)\n",
    "plt.rcParams['figure.figsize'] = (3, 3)\n",
    "sns.heatmap(matriz, annot = True, cmap = 'Wistia', fmt = '.8g')\n",
    "plt.show()\n",
    "\n",
    "# Usando un reporte de clasificacion para el analisis de performance\n",
    "\n",
    "reporte = classification_report(y_test, y_pred)\n",
    "print(reporte)"
   ]
  },
  {
   "cell_type": "markdown",
   "id": "98743111",
   "metadata": {},
   "source": [
    "Podemos ver que el modelo de regresión logística comete 21 errores al reconocer el rechazo del préstamo\n",
    "mientras que sólo comete 7 errores al reconocer los casos de aceptación del préstamo.\n",
    "\n",
    "Si echamos un vistazo a la precisión, podemos ver que la precisión para la clase cero es del 90%,\n",
    "donde la posición para la clase uno es del 78%.Del mismo modo, el \"recall\" para la clase cero es del 74% y la clase uno es del 92%.\n",
    "\n",
    "Esto significa que la regresión logística no es el mejor modelo para este conjunto de datos. Se aplicara otro tipo de modelo para ajustarse mejor."
   ]
  },
  {
   "cell_type": "markdown",
   "id": "11fb23da",
   "metadata": {},
   "source": [
    "### Con modelo gradient boosting"
   ]
  },
  {
   "cell_type": "code",
   "execution_count": 33,
   "id": "3d876734",
   "metadata": {},
   "outputs": [
    {
     "name": "stdout",
     "output_type": "stream",
     "text": [
      "Precisión de entrenamiento : 0.9156441717791411\n",
      "Precisión de la prueba : 0.823170731707317\n"
     ]
    }
   ],
   "source": [
    "# Aplicando \"gradient boosting\"\n",
    "\n",
    "from sklearn.ensemble import GradientBoostingClassifier\n",
    "\n",
    "modelo =  GradientBoostingClassifier()\n",
    "modelo.fit(x_train, y_train)\n",
    "\n",
    "y_pred = modelo.predict(x_test)\n",
    "\n",
    "print(\"Precisión de entrenamiento :\", modelo.score(x_train, y_train))\n",
    "print(\"Precisión de la prueba :\", modelo.score(x_test, y_test))"
   ]
  },
  {
   "cell_type": "markdown",
   "id": "ebdb9dc9",
   "metadata": {},
   "source": [
    "Los resultados previos son ligeramente mejores, pero aplico matriz de confusion para analizarlo mejor."
   ]
  },
  {
   "cell_type": "code",
   "execution_count": 34,
   "id": "bd55744d",
   "metadata": {},
   "outputs": [
    {
     "data": {
      "image/png": "[encoded data removed]",
      "text/plain": [
       "<Figure size 216x216 with 2 Axes>"
      ]
     },
     "metadata": {
      "needs_background": "light"
     },
     "output_type": "display_data"
    },
    {
     "name": "stdout",
     "output_type": "stream",
     "text": [
      "              precision    recall  f1-score   support\n",
      "\n",
      "           0       0.87      0.75      0.81        81\n",
      "           1       0.79      0.89      0.84        83\n",
      "\n",
      "    accuracy                           0.82       164\n",
      "   macro avg       0.83      0.82      0.82       164\n",
      "weighted avg       0.83      0.82      0.82       164\n",
      "\n"
     ]
    }
   ],
   "source": [
    "# Analizandola perforamnce del modelo con matriz de confusion\n",
    "\n",
    "matriz = confusion_matrix(y_test, y_pred)\n",
    "plt.rcParams['figure.figsize'] = (3, 3)\n",
    "sns.heatmap(matriz, annot = True, cmap = 'Wistia', fmt = '.8g')\n",
    "plt.show()\n",
    "\n",
    "# Usando un reporte de clasificacion para el analisis de performance\n",
    "\n",
    "reporte = classification_report(y_test, y_pred)\n",
    "print(reporte)"
   ]
  },
  {
   "cell_type": "markdown",
   "id": "4b6d0aad",
   "metadata": {},
   "source": [
    "Aplicando validacion cruzada para confirmar los valores"
   ]
  },
  {
   "cell_type": "code",
   "execution_count": 35,
   "id": "1b63acf5",
   "metadata": {},
   "outputs": [
    {
     "name": "stdout",
     "output_type": "stream",
     "text": [
      "[0.72727273 0.8030303  0.72307692 0.81538462 0.81538462 0.73846154\n",
      " 0.84615385 0.75384615 0.81538462 0.81538462]\n"
     ]
    }
   ],
   "source": [
    "from sklearn.model_selection import cross_val_score\n",
    "\n",
    "gradiente = GradientBoostingClassifier(random_state = 0)\n",
    "valores = cross_val_score(gradiente, x_train, y_train, cv=10)\n",
    "print(valores)"
   ]
  },
  {
   "cell_type": "markdown",
   "id": "c06a5b1a",
   "metadata": {},
   "source": [
    "Si echamos un vistazo a la precisión y el \"recall\" son bastante similares.\n",
    "\n",
    "Podemos comprobar las puntuaciones de la validación cruzada también y se puede ver que las puntuaciones no son demasiado importantes,lo que significa que el modelo ha sido entrenado bien.\n",
    "\n",
    "No podemos esperar que este modelo funcione muy bien ya que el número de registros en los datos de entrenamiento es muy pequeño.\n"
   ]
  }
 ],
 "metadata": {
  "kernelspec": {
   "display_name": "Python 3 (ipykernel)",
   "language": "python",
   "name": "python3"
  },
  "language_info": {
   "codemirror_mode": {
    "name": "ipython",
    "version": 3
   },
   "file_extension": ".py",
   "mimetype": "text/x-python",
   "name": "python",
   "nbconvert_exporter": "python",
   "pygments_lexer": "ipython3",
   "version": "3.9.7"
  }
 },
 "nbformat": 4,
 "nbformat_minor": 5
}
